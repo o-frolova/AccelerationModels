{
  "cells": [
    {
      "cell_type": "markdown",
      "metadata": {
        "id": "PNgodN_wQJCZ"
      },
      "source": [
        "# Подключение библиотек"
      ]
    },
    {
      "cell_type": "code",
      "execution_count": 1,
      "metadata": {
        "id": "FeIeeR_yOYg2"
      },
      "outputs": [],
      "source": [
        "import torchvision\n",
        "import torchvision.datasets as datasets\n",
        "from torchvision import transforms\n",
        "\n",
        "import numpy as np\n",
        "import pandas as pd\n",
        "\n",
        "import torch\n",
        "import torch.nn as nn\n",
        "from torch.utils.data import DataLoader, Dataset\n",
        "import torch.optim as optim\n",
        "\n",
        "from sklearn.metrics import confusion_matrix\n",
        "\n",
        "import seaborn as sns\n",
        "import matplotlib.pyplot as plt\n",
        "\n",
        "from sklearn.metrics import precision_score, recall_score, accuracy_score, f1_score\n",
        "\n",
        "import time"
      ]
    },
    {
      "cell_type": "markdown",
      "metadata": {
        "id": "RtYOvABDQPDS"
      },
      "source": [
        "# Чтение данных"
      ]
    },
    {
      "cell_type": "code",
      "execution_count": 2,
      "metadata": {
        "colab": {
          "base_uri": "https://localhost:8080/"
        },
        "id": "cbZ_wNq8PRMP",
        "outputId": "20f90e38-fe3c-4775-d1b8-13bb28ce4513"
      },
      "outputs": [
        {
          "name": "stdout",
          "output_type": "stream",
          "text": [
            "Files already downloaded and verified\n",
            "Files already downloaded and verified\n"
          ]
        }
      ],
      "source": [
        "transform = transforms.Compose([transforms.ToTensor(), transforms.Normalize((0.5, 0.5, 0.5), (0.5, 0.5, 0.5))])\n",
        "cifar100_train = datasets.CIFAR100(root='./data', train=True, download=True, transform=transform)\n",
        "cifar100_test = datasets.CIFAR100(root='./data', train=False, download=True, transform=transform)"
      ]
    },
    {
      "cell_type": "markdown",
      "metadata": {
        "id": "NA8UPV6malh4"
      },
      "source": [
        "# Обработка данных"
      ]
    },
    {
      "cell_type": "code",
      "execution_count": 3,
      "metadata": {
        "id": "QTIOeGULbLs-"
      },
      "outputs": [],
      "source": [
        "# Реализован класс для удобной работы с датасетом.\n",
        "class Cifar100Dataset(Dataset):\n",
        "    def __init__(self, images, labels):\n",
        "        self.images = images\n",
        "        self.labels = labels\n",
        "\n",
        "    def __len__(self):\n",
        "        return len(self.images)\n",
        "\n",
        "    def __getitem__(self, idx):\n",
        "        image = self.images[idx]\n",
        "        label = self.labels[idx]\n",
        "\n",
        "        return image, label"
      ]
    },
    {
      "cell_type": "code",
      "execution_count": 4,
      "metadata": {
        "id": "wDIB1reqYx2r"
      },
      "outputs": [],
      "source": [
        "classes = cifar100_train.classes\n",
        "bicycle_index = classes.index('motorcycle') #48\n",
        "motorcycle_index = classes.index('bicycle') #8"
      ]
    },
    {
      "cell_type": "code",
      "execution_count": 5,
      "metadata": {
        "id": "ZjvZDK0BYTuB"
      },
      "outputs": [],
      "source": [
        "#Изменяем labels в датасете следующим образом: 0 - bicycle, 1 - motorcycle, 2 - background(то есть все остальное)\n",
        "def get_new_targets(old_targets):\n",
        "  new_targets = []\n",
        "  for target in old_targets:\n",
        "    if target == bicycle_index:\n",
        "      new_targets.append(0)\n",
        "\n",
        "    if target == motorcycle_index:\n",
        "        new_targets.append(1)\n",
        "\n",
        "    if target != bicycle_index and target != motorcycle_index:\n",
        "      new_targets.append(2)\n",
        "\n",
        "  return new_targets\n",
        "\n",
        "# Приводим данные в нужный shape, чтобы размерность была вида (3, 32, 32)\n",
        "def get_new_data_shape(data):\n",
        "  new_data_imgs = []\n",
        "  for img in data:\n",
        "    new_data_imgs.append(np.transpose(img, (2, 0, 1)))\n",
        "  return torch.tensor(np.array(new_data_imgs))\n"
      ]
    },
    {
      "cell_type": "code",
      "execution_count": 6,
      "metadata": {
        "id": "lIr1raA0a2cR"
      },
      "outputs": [],
      "source": [
        "dataset_train = Cifar100Dataset(get_new_data_shape(cifar100_train.data), get_new_targets(cifar100_train.targets))\n",
        "dataset_test = Cifar100Dataset(get_new_data_shape(cifar100_test.data), get_new_targets(cifar100_test.targets))"
      ]
    },
    {
      "cell_type": "markdown",
      "metadata": {
        "id": "TNo1vbHlyN6E"
      },
      "source": [
        "# Сбалансированность классов"
      ]
    },
    {
      "cell_type": "code",
      "execution_count": 7,
      "metadata": {
        "id": "ZFOpDOru-0Aw"
      },
      "outputs": [],
      "source": [
        "def get_balanced_classes(data_labels):\n",
        "  unique_labels, counts = np.unique(data_labels, return_counts=True)\n",
        "  for label, count in zip(unique_labels, counts):\n",
        "    if label == 0:\n",
        "      print(f\"Метка велосипед встречается {count} раз\")\n",
        "    if label == 1:\n",
        "      print(f\"Метка мотоцикл встречается {count} раз\")\n",
        "    if label == 2:\n",
        "      print(f\"Метка background встречается {count} раз\")"
      ]
    },
    {
      "cell_type": "code",
      "execution_count": 8,
      "metadata": {
        "colab": {
          "base_uri": "https://localhost:8080/"
        },
        "id": "K_e4UJy1hClD",
        "outputId": "f3ae6c7a-3428-49c5-9c2c-5141f0a4d2b4"
      },
      "outputs": [
        {
          "name": "stdout",
          "output_type": "stream",
          "text": [
            "Train\n",
            "Метка велосипед встречается 500 раз\n",
            "Метка мотоцикл встречается 500 раз\n",
            "Метка background встречается 49000 раз\n",
            "Test\n",
            "Метка велосипед встречается 100 раз\n",
            "Метка мотоцикл встречается 100 раз\n",
            "Метка background встречается 9800 раз\n"
          ]
        }
      ],
      "source": [
        "print(\"Train\")\n",
        "get_balanced_classes(dataset_train.labels)\n",
        "print(\"Test\")\n",
        "get_balanced_classes(dataset_test.labels)\n"
      ]
    },
    {
      "cell_type": "markdown",
      "metadata": {
        "id": "9R27wb3-xw0E"
      },
      "source": [
        "<b>Комментарий:</b>\n",
        "\n",
        "Из-за значительного дисбаланса данных в классе background предлагается случайным образом выбрать 500 изображений из набора данных обучающей выборки (train) и 100 изображений из набора данных тестовой выборки (test) для этого класса."
      ]
    },
    {
      "cell_type": "markdown",
      "metadata": {
        "id": "n37DCfCe516y"
      },
      "source": [
        "# \"Обрезка данных\""
      ]
    },
    {
      "cell_type": "code",
      "execution_count": 9,
      "metadata": {
        "id": "KudOrNLh_OIS"
      },
      "outputs": [],
      "source": [
        "import random\n",
        "\n",
        "def get_subset(dataset, threshold):\n",
        "  bicycle_indices = []\n",
        "  motorcycle_indices = []\n",
        "  background_indices = []\n",
        "\n",
        "  # Просмотр индексов и добавление их в соответствующие списки\n",
        "  for idx, label in enumerate(dataset.labels):\n",
        "      if label == 0:  # Велосипед\n",
        "          bicycle_indices.append(idx)\n",
        "      elif label == 1:  # Мотоцикл\n",
        "          motorcycle_indices.append(idx)\n",
        "      else:  # Background\n",
        "          background_indices.append(idx)\n",
        "\n",
        "  # Случайное перемешивание индексов\n",
        "  random.shuffle(background_indices)\n",
        "\n",
        "  # Оставляем только threshold случайных индексов изображений background\n",
        "  background_indices = background_indices[:threshold]\n",
        "\n",
        "  # Получаем индексы изображений для велосипеда и мотоцикла\n",
        "  bicycle_indices = random.sample(bicycle_indices, threshold)\n",
        "  motorcycle_indices = random.sample(motorcycle_indices, threshold)\n",
        "\n",
        "  # Объединяем все выбранные индексы\n",
        "  selected_indices = background_indices + bicycle_indices + motorcycle_indices\n",
        "\n",
        "  # Создание поднабора датасета\n",
        "  subset_dataset = torch.utils.data.Subset(dataset, selected_indices)\n",
        "  selected_labels = [dataset.labels[idx] for idx in selected_indices]\n",
        "\n",
        "  return subset_dataset, selected_labels\n"
      ]
    },
    {
      "cell_type": "code",
      "execution_count": 10,
      "metadata": {
        "id": "thd3_bF5_2sk"
      },
      "outputs": [],
      "source": [
        "sub_data_train, sub_label_train = get_subset(dataset_train, 500)\n",
        "sub_data_test, sub_label_test = get_subset(dataset_test, 100)"
      ]
    },
    {
      "cell_type": "code",
      "execution_count": 11,
      "metadata": {
        "colab": {
          "base_uri": "https://localhost:8080/"
        },
        "id": "YpTfhCKr7ciF",
        "outputId": "7b68daa0-30f0-4599-b72d-2cb238a1fa87"
      },
      "outputs": [
        {
          "name": "stdout",
          "output_type": "stream",
          "text": [
            "Train\n",
            "Метка велосипед встречается 500 раз\n",
            "Метка мотоцикл встречается 500 раз\n",
            "Метка background встречается 500 раз\n",
            "Test\n",
            "Метка велосипед встречается 100 раз\n",
            "Метка мотоцикл встречается 100 раз\n",
            "Метка background встречается 100 раз\n"
          ]
        }
      ],
      "source": [
        "# Проверка балансов классов в получившихся наборах данных\n",
        "print(\"Train\")\n",
        "get_balanced_classes(sub_label_train)\n",
        "print(\"Test\")\n",
        "get_balanced_classes(sub_label_test)"
      ]
    },
    {
      "cell_type": "markdown",
      "metadata": {
        "id": "EUDcjEoHqsNm"
      },
      "source": [
        "# Визуализация"
      ]
    },
    {
      "cell_type": "code",
      "execution_count": 95,
      "metadata": {
        "colab": {
          "base_uri": "https://localhost:8080/",
          "height": 545
        },
        "id": "IBsDipIBcqbu",
        "outputId": "99596f2c-82d2-43fa-eb37-5d475f47151f"
      },
      "outputs": [
        {
          "data": {
            "image/png": "[encoded data removed]",
            "text/plain": [
              "<Figure size 1200x300 with 5 Axes>"
            ]
          },
          "metadata": {},
          "output_type": "display_data"
        },
        {
          "data": {
            "image/png": "[encoded data removed]",
            "text/plain": [
              "<Figure size 1200x300 with 5 Axes>"
            ]
          },
          "metadata": {},
          "output_type": "display_data"
        }
      ],
      "source": [
        "def show_images(images, labels, num_images):\n",
        "    fig, axes = plt.subplots(1, num_images, figsize=(12, 3))\n",
        "\n",
        "    for i in range(num_images):\n",
        "        img, label = images[i], labels[i]\n",
        "        img = img.numpy()\n",
        "        img = np.transpose(img, (1, 2, 0))\n",
        "        axes[i].imshow(img)\n",
        "        axes[i].set_title(f\"Class: {label}\")\n",
        "        axes[i].axis('off')\n",
        "\n",
        "    plt.tight_layout()\n",
        "    plt.show()\n",
        "\n",
        "train_images, train_labels = zip(*sub_data_train)\n",
        "test_images, test_labels = zip(*sub_data_test)\n",
        "\n",
        "show_images(train_images, train_labels, num_images=5)\n",
        "show_images(test_images, test_labels, num_images=5)\n"
      ]
    },
    {
      "cell_type": "markdown",
      "metadata": {
        "id": "nADRdIb7WN91"
      },
      "source": [
        "# Обучение"
      ]
    },
    {
      "cell_type": "code",
      "execution_count": 80,
      "metadata": {
        "id": "F3jB3uEvWkNe"
      },
      "outputs": [],
      "source": [
        "number_classes = 3\n",
        "batch_size = 64\n",
        "epochs = 15"
      ]
    },
    {
      "cell_type": "code",
      "execution_count": 27,
      "metadata": {
        "id": "YsNkwo3vHgah"
      },
      "outputs": [],
      "source": [
        "def train(model, train_loader, device, epochs):\n",
        "  total_loss = []\n",
        "  for epoch in range(epochs):\n",
        "    model.train()  # Установка модели в режим обучения\n",
        "    running_loss = 0\n",
        "    for i, (inputs, labels) in enumerate(train_loader, 0):\n",
        "\n",
        "        inputs = inputs.to(device)\n",
        "        labels = labels.to(device)\n",
        "        optimizer.zero_grad()\n",
        "        outputs = model(inputs.float())\n",
        "        loss = criterion(outputs, labels)\n",
        "        loss.backward()\n",
        "        optimizer.step()\n",
        "        running_loss += loss.item()\n",
        "\n",
        "    print(f\"Epoch [{epoch + 1}/{epochs}] - Loss: {running_loss}\")\n",
        "    total_loss.append(running_loss)\n",
        "\n",
        "  return total_loss\n",
        "\n",
        "\n",
        "def predict(model,test_loader, device):\n",
        "  model.eval()\n",
        "  all_preds = []\n",
        "  all_labels = []\n",
        "\n",
        "  with torch.no_grad():\n",
        "      for inputs, labels in test_loader:\n",
        "          inputs = inputs.to(device)\n",
        "          labels = labels.to(device)\n",
        "          outputs = model(inputs.float())\n",
        "          _, predicted = torch.max(outputs.data, 1)\n",
        "          all_preds.extend(predicted.cpu().numpy())\n",
        "          all_labels.extend(labels.cpu().numpy())\n",
        "\n",
        "  return all_preds, all_labels\n"
      ]
    },
    {
      "cell_type": "code",
      "execution_count": 28,
      "metadata": {
        "id": "PjycI4uOVtE5"
      },
      "outputs": [],
      "source": [
        "# Определение данных и модели\n",
        "model_original = torchvision.models.resnet18(pretrained=True) # предобученная модель ResNet18 из \"коробки\".\n",
        "\n",
        "train_loader = DataLoader(sub_data_train, batch_size=batch_size, shuffle=True)\n",
        "test_loader = DataLoader(sub_data_test, batch_size=batch_size, shuffle=False)"
      ]
    },
    {
      "cell_type": "code",
      "execution_count": 29,
      "metadata": {
        "colab": {
          "base_uri": "https://localhost:8080/"
        },
        "id": "LJ82QZsLWamB",
        "outputId": "8537d5d0-70a0-44db-b8a1-c37448640771"
      },
      "outputs": [
        {
          "name": "stdout",
          "output_type": "stream",
          "text": [
            "Epoch [1/15] - Loss: 114.03721141815186\n",
            "Epoch [2/15] - Loss: 19.726927518844604\n",
            "Epoch [3/15] - Loss: 11.421731606125832\n",
            "Epoch [4/15] - Loss: 7.358260124921799\n",
            "Epoch [5/15] - Loss: 4.740956284105778\n",
            "Epoch [6/15] - Loss: 3.566608004271984\n",
            "Epoch [7/15] - Loss: 3.0945605598390102\n",
            "Epoch [8/15] - Loss: 1.2656249646097422\n",
            "Epoch [9/15] - Loss: 0.9799060607329011\n",
            "Epoch [10/15] - Loss: 1.0547194364480674\n",
            "Epoch [11/15] - Loss: 0.8508221697993577\n",
            "Epoch [12/15] - Loss: 0.8757526384433731\n",
            "Epoch [13/15] - Loss: 0.4601596549618989\n",
            "Epoch [14/15] - Loss: 0.4846112309023738\n",
            "Epoch [15/15] - Loss: 0.3878720053471625\n"
          ]
        }
      ],
      "source": [
        "# Перенос модели на GPU, если доступен\n",
        "device = torch.device(\"cuda:0\" if torch.cuda.is_available() else \"cpu\")\n",
        "model_original = model_original.to(device)\n",
        "\n",
        "# Определяем критерий (функция потерь) и оптимизатор\n",
        "criterion = nn.CrossEntropyLoss()\n",
        "optimizer = optim.SGD(model_original.parameters(), lr=0.001, momentum=0.9)\n",
        "\n",
        "# Обучение модели\n",
        "total_loss = train(model_original, train_loader, device, epochs)"
      ]
    },
    {
      "cell_type": "code",
      "execution_count": 49,
      "metadata": {
        "id": "NUgApga8E-dB"
      },
      "outputs": [],
      "source": [
        "all_preds_original, all_labels_original = predict(model_original, test_loader, device)"
      ]
    },
    {
      "cell_type": "markdown",
      "metadata": {
        "id": "wcOKMYWmEq3T"
      },
      "source": [
        "# Анализ результатов"
      ]
    },
    {
      "cell_type": "markdown",
      "metadata": {
        "id": "8FgLzjNB2wnI"
      },
      "source": [
        "### Анализ поведения ошибки при обучении модели"
      ]
    },
    {
      "cell_type": "code",
      "execution_count": 32,
      "metadata": {
        "colab": {
          "base_uri": "https://localhost:8080/",
          "height": 564
        },
        "id": "-v26zwdT0nst",
        "outputId": "9e017132-f2c8-42e7-a240-0b90c96dd66a"
      },
      "outputs": [
        {
          "data": {
            "image/png": "[encoded data removed]",
            "text/plain": [
              "<Figure size 800x600 with 1 Axes>"
            ]
          },
          "metadata": {},
          "output_type": "display_data"
        }
      ],
      "source": [
        "plt.figure(figsize=(8, 6))\n",
        "plt.plot(total_loss, marker='o', linestyle='-', color='b')\n",
        "plt.xlabel('Epoch')\n",
        "plt.ylabel('Loss')\n",
        "plt.title('Train loss')\n",
        "plt.grid(True)\n",
        "plt.show()"
      ]
    },
    {
      "cell_type": "markdown",
      "metadata": {
        "id": "IQsQbFrT2HQF"
      },
      "source": [
        "<b>Комментарий:</b>\n",
        "\n",
        "Значение ошибки уменьшается на каждой последующей эпохе обучения, это указывает на то, что модель обучается."
      ]
    },
    {
      "cell_type": "markdown",
      "metadata": {
        "id": "lC9kOAmh2tNP"
      },
      "source": [
        "### Confusion matrix"
      ]
    },
    {
      "cell_type": "code",
      "execution_count": 70,
      "metadata": {
        "colab": {
          "base_uri": "https://localhost:8080/",
          "height": 564
        },
        "id": "glRBgzAjFR3x",
        "outputId": "de1698a6-f638-443b-cad8-2e2a610ea070"
      },
      "outputs": [
        {
          "data": {
            "image/png": "[encoded data removed]",
            "text/plain": [
              "<Figure size 800x600 with 2 Axes>"
            ]
          },
          "metadata": {},
          "output_type": "display_data"
        }
      ],
      "source": [
        "# Создание confusion matrix\n",
        "conf_matrix = confusion_matrix(all_labels_original, all_preds_original)\n",
        "\n",
        "# Визуализация confusion matrix\n",
        "plt.figure(figsize=(8, 6))\n",
        "sns.heatmap(conf_matrix, annot=True, fmt='d', cmap='Blues', xticklabels=['Bicycle', 'Motorcycle', 'Background'], yticklabels=['Bicycle', 'Motorcycle', 'Background'])\n",
        "plt.xlabel('Predicted')\n",
        "plt.ylabel('Actual')\n",
        "plt.title('Confusion Matrix')\n",
        "plt.show()"
      ]
    },
    {
      "cell_type": "markdown",
      "metadata": {
        "id": "qN_Sa38k25_V"
      },
      "source": [
        "<b>Комментарий:</b>\n",
        "\n",
        "Отметим важные моменты:\n",
        "\n",
        "* Класс bicycle чаще всего путался с motorcycle. Что объяснимо, так как два вида транспортных средст достаточно похожи друг на друга.\n",
        "* Класс motorcycle и background чаще всего путались друг с другом.\n",
        "\n",
        "Можно сделать вывод, что модель лучше опеделяет класс motorcycle, чем bicycle."
      ]
    },
    {
      "cell_type": "markdown",
      "metadata": {
        "id": "5R9NG0tGJkWx"
      },
      "source": [
        "### Подход Transfer Learning"
      ]
    },
    {
      "cell_type": "markdown",
      "metadata": {
        "id": "yGPGOknN4S90"
      },
      "source": [
        "Предлагается использовать предварительно обученную модель и произвести процедуру \"transfer learning\", заморозив веса предыдущих слоев и переопределив финальный слой для обучения на конкретной задаче."
      ]
    },
    {
      "cell_type": "code",
      "execution_count": 52,
      "metadata": {
        "id": "D9STcPeA4HUr"
      },
      "outputs": [],
      "source": [
        "def get_tl_resnet_model_(number_classes):\n",
        "  # Загрузка предварительно обученной модели ResNet-18\n",
        "  model = torchvision.models.resnet18(pretrained=True)\n",
        "\n",
        "  # Замораживаем параметры предварительно обученной модели\n",
        "  for param in model.parameters():\n",
        "      param.requires_grad = False\n",
        "\n",
        "  # Переопределяем последний полносвязный слой для CIFAR-100 (3 классов)\n",
        "  num_ftrs = model.fc.in_features\n",
        "  model.fc = nn.Linear(num_ftrs, number_classes)\n",
        "  return model"
      ]
    },
    {
      "cell_type": "code",
      "execution_count": 53,
      "metadata": {
        "colab": {
          "base_uri": "https://localhost:8080/"
        },
        "id": "g4GtlSgRBTcH",
        "outputId": "da33b6d5-18d0-47ba-b10b-1844ab2fcdbf"
      },
      "outputs": [
        {
          "name": "stderr",
          "output_type": "stream",
          "text": [
            "/usr/local/lib/python3.10/dist-packages/torchvision/models/_utils.py:208: UserWarning: The parameter 'pretrained' is deprecated since 0.13 and may be removed in the future, please use 'weights' instead.\n",
            "  warnings.warn(\n",
            "/usr/local/lib/python3.10/dist-packages/torchvision/models/_utils.py:223: UserWarning: Arguments other than a weight enum or `None` for 'weights' are deprecated since 0.13 and may be removed in the future. The current behavior is equivalent to passing `weights=ResNet18_Weights.IMAGENET1K_V1`. You can also use `weights=ResNet18_Weights.DEFAULT` to get the most up-to-date weights.\n",
            "  warnings.warn(msg)\n"
          ]
        }
      ],
      "source": [
        "model_tl = get_tl_resnet_model_(number_classes)"
      ]
    },
    {
      "cell_type": "code",
      "execution_count": 55,
      "metadata": {
        "colab": {
          "base_uri": "https://localhost:8080/"
        },
        "id": "D93jtcM9Kj_j",
        "outputId": "cff6105c-58f8-4d96-b6be-871a1cb6acd2"
      },
      "outputs": [
        {
          "name": "stdout",
          "output_type": "stream",
          "text": [
            "Epoch [1/15] - Loss: 27.35682338476181\n",
            "Epoch [2/15] - Loss: 20.63702082633972\n",
            "Epoch [3/15] - Loss: 18.59878408908844\n",
            "Epoch [4/15] - Loss: 17.558064877986908\n",
            "Epoch [5/15] - Loss: 17.42884784936905\n",
            "Epoch [6/15] - Loss: 17.40098738670349\n",
            "Epoch [7/15] - Loss: 16.640377044677734\n",
            "Epoch [8/15] - Loss: 16.013157725334167\n",
            "Epoch [9/15] - Loss: 16.22005307674408\n",
            "Epoch [10/15] - Loss: 15.500184714794159\n",
            "Epoch [11/15] - Loss: 15.501867592334747\n",
            "Epoch [12/15] - Loss: 14.957329899072647\n",
            "Epoch [13/15] - Loss: 14.960824489593506\n",
            "Epoch [14/15] - Loss: 15.363349080085754\n",
            "Epoch [15/15] - Loss: 15.736032903194427\n"
          ]
        }
      ],
      "source": [
        "# Перенос модели на GPU, если доступен\n",
        "device = torch.device(\"cuda:0\" if torch.cuda.is_available() else \"cpu\")\n",
        "model_tr = model_tl.to(device)\n",
        "\n",
        "# Определяем критерий (функция потерь) и оптимизатор\n",
        "criterion = nn.CrossEntropyLoss()\n",
        "optimizer = optim.SGD(model_tr.parameters(), lr=0.001, momentum=0.9)\n",
        "\n",
        "# Обучение модели\n",
        "total_loss_ = train(model_tr, train_loader, device, epochs)"
      ]
    },
    {
      "cell_type": "code",
      "execution_count": 56,
      "metadata": {
        "id": "E1178oOrKvCN"
      },
      "outputs": [],
      "source": [
        "all_preds_tl, all_labels_tl = predict(model_tl, test_loader, device)"
      ]
    },
    {
      "cell_type": "markdown",
      "metadata": {
        "id": "X20wLSKoMc1g"
      },
      "source": [
        "# Сравнение результатов"
      ]
    },
    {
      "cell_type": "code",
      "execution_count": 83,
      "metadata": {
        "id": "Wgj3oF18QoZT"
      },
      "outputs": [],
      "source": [
        "RESULT_METRICS = {}"
      ]
    },
    {
      "cell_type": "code",
      "execution_count": 84,
      "metadata": {
        "id": "kkKyF551NlWG"
      },
      "outputs": [],
      "source": [
        "def get_metrics(true_labels, predicted_labels, num_classes):\n",
        "\n",
        "  accuracy = accuracy_score(true_labels, predicted_labels)\n",
        "  precision = precision_score(true_labels, predicted_labels, average='weighted')\n",
        "  recall = recall_score(true_labels, predicted_labels, average='weighted')\n",
        "  f1score = f1_score(true_labels, predicted_labels, average='weighted')\n",
        "\n",
        "  return round(accuracy,3), round(precision,3), round(recall,3), round(f1score,3)\n"
      ]
    },
    {
      "cell_type": "code",
      "execution_count": 85,
      "metadata": {
        "id": "BeYCRdm9OWWs"
      },
      "outputs": [],
      "source": [
        "accuracy_original, precision_original, recall_original, f1score_original  = get_metrics(all_labels_original, all_preds_original, number_classes)\n",
        "accuracy_tl, precision_tl, recall_tl, f1score_tl  = get_metrics(all_labels_tl, all_preds_tl, number_classes)"
      ]
    },
    {
      "cell_type": "code",
      "execution_count": 86,
      "metadata": {
        "id": "zXRkhNm8Pqi8"
      },
      "outputs": [],
      "source": [
        "RESULT_METRICS['RESNET_ORIGINAL'] = [accuracy_original, precision_original, recall_original, f1score_original]\n",
        "RESULT_METRICS['RESNET_TL'] = [accuracy_tl, precision_tl, recall_tl, f1score_tl ]"
      ]
    },
    {
      "cell_type": "code",
      "execution_count": 87,
      "metadata": {
        "colab": {
          "base_uri": "https://localhost:8080/",
          "height": 111
        },
        "id": "LPXrsOnJMD4Q",
        "outputId": "e157bf4d-d166-4fdb-a437-13a53bbb5b75"
      },
      "outputs": [
        {
          "data": {
            "text/html": [
              "\n",
              "  <div id=\"df-24c5629e-76b2-4f53-81ad-2137c53572d9\" class=\"colab-df-container\">\n",
              "    <div>\n",
              "<style scoped>\n",
              "    .dataframe tbody tr th:only-of-type {\n",
              "        vertical-align: middle;\n",
              "    }\n",
              "\n",
              "    .dataframe tbody tr th {\n",
              "        vertical-align: top;\n",
              "    }\n",
              "\n",
              "    .dataframe thead th {\n",
              "        text-align: right;\n",
              "    }\n",
              "</style>\n",
              "<table border=\"1\" class=\"dataframe\">\n",
              "  <thead>\n",
              "    <tr style=\"text-align: right;\">\n",
              "      <th></th>\n",
              "      <th>Accuracy</th>\n",
              "      <th>Precision</th>\n",
              "      <th>Recall</th>\n",
              "      <th>F1</th>\n",
              "    </tr>\n",
              "  </thead>\n",
              "  <tbody>\n",
              "    <tr>\n",
              "      <th>RESNET_ORIGINAL</th>\n",
              "      <td>0.847</td>\n",
              "      <td>0.847</td>\n",
              "      <td>0.847</td>\n",
              "      <td>0.846</td>\n",
              "    </tr>\n",
              "    <tr>\n",
              "      <th>RESNET_TL</th>\n",
              "      <td>0.673</td>\n",
              "      <td>0.677</td>\n",
              "      <td>0.673</td>\n",
              "      <td>0.672</td>\n",
              "    </tr>\n",
              "  </tbody>\n",
              "</table>\n",
              "</div>\n",
              "    <div class=\"colab-df-buttons\">\n",
              "\n",
              "  <div class=\"colab-df-container\">\n",
              "    <button class=\"colab-df-convert\" onclick=\"convertToInteractive('df-24c5629e-76b2-4f53-81ad-2137c53572d9')\"\n",
              "            title=\"Convert this dataframe to an interactive table.\"\n",
              "            style=\"display:none;\">\n",
              "\n",
              "  <svg xmlns=\"http://www.w3.org/2000/svg\" height=\"24px\" viewBox=\"0 -960 960 960\">\n",
              "    <path d=\"M120-120v-720h720v720H120Zm60-500h600v-160H180v160Zm220 220h160v-160H400v160Zm0 220h160v-160H400v160ZM180-400h160v-160H180v160Zm440 0h160v-160H620v160ZM180-180h160v-160H180v160Zm440 0h160v-160H620v160Z\"/>\n",
              "  </svg>\n",
              "    </button>\n",
              "\n",
              "  <style>\n",
              "    .colab-df-container {\n",
              "      display:flex;\n",
              "      gap: 12px;\n",
              "    }\n",
              "\n",
              "    .colab-df-convert {\n",
              "      background-color: #E8F0FE;\n",
              "      border: none;\n",
              "      border-radius: 50%;\n",
              "      cursor: pointer;\n",
              "      display: none;\n",
              "      fill: #1967D2;\n",
              "      height: 32px;\n",
              "      padding: 0 0 0 0;\n",
              "      width: 32px;\n",
              "    }\n",
              "\n",
              "    .colab-df-convert:hover {\n",
              "      background-color: #E2EBFA;\n",
              "      box-shadow: 0px 1px 2px rgba(60, 64, 67, 0.3), 0px 1px 3px 1px rgba(60, 64, 67, 0.15);\n",
              "      fill: #174EA6;\n",
              "    }\n",
              "\n",
              "    .colab-df-buttons div {\n",
              "      margin-bottom: 4px;\n",
              "    }\n",
              "\n",
              "    [theme=dark] .colab-df-convert {\n",
              "      background-color: #3B4455;\n",
              "      fill: #D2E3FC;\n",
              "    }\n",
              "\n",
              "    [theme=dark] .colab-df-convert:hover {\n",
              "      background-color: #434B5C;\n",
              "      box-shadow: 0px 1px 3px 1px rgba(0, 0, 0, 0.15);\n",
              "      filter: drop-shadow(0px 1px 2px rgba(0, 0, 0, 0.3));\n",
              "      fill: #FFFFFF;\n",
              "    }\n",
              "  </style>\n",
              "\n",
              "    <script>\n",
              "      const buttonEl =\n",
              "        document.querySelector('#df-24c5629e-76b2-4f53-81ad-2137c53572d9 button.colab-df-convert');\n",
              "      buttonEl.style.display =\n",
              "        google.colab.kernel.accessAllowed ? 'block' : 'none';\n",
              "\n",
              "      async function convertToInteractive(key) {\n",
              "        const element = document.querySelector('#df-24c5629e-76b2-4f53-81ad-2137c53572d9');\n",
              "        const dataTable =\n",
              "          await google.colab.kernel.invokeFunction('convertToInteractive',\n",
              "                                                    [key], {});\n",
              "        if (!dataTable) return;\n",
              "\n",
              "        const docLinkHtml = 'Like what you see? Visit the ' +\n",
              "          '<a target=\"_blank\" href=https://colab.research.google.com/notebooks/data_table.ipynb>data table notebook</a>'\n",
              "          + ' to learn more about interactive tables.';\n",
              "        element.innerHTML = '';\n",
              "        dataTable['output_type'] = 'display_data';\n",
              "        await google.colab.output.renderOutput(dataTable, element);\n",
              "        const docLink = document.createElement('div');\n",
              "        docLink.innerHTML = docLinkHtml;\n",
              "        element.appendChild(docLink);\n",
              "      }\n",
              "    </script>\n",
              "  </div>\n",
              "\n",
              "\n",
              "<div id=\"df-89739e0e-a98f-4dac-9a31-741f8b7b6918\">\n",
              "  <button class=\"colab-df-quickchart\" onclick=\"quickchart('df-89739e0e-a98f-4dac-9a31-741f8b7b6918')\"\n",
              "            title=\"Suggest charts\"\n",
              "            style=\"display:none;\">\n",
              "\n",
              "<svg xmlns=\"http://www.w3.org/2000/svg\" height=\"24px\"viewBox=\"0 0 24 24\"\n",
              "     width=\"24px\">\n",
              "    <g>\n",
              "        <path d=\"M19 3H5c-1.1 0-2 .9-2 2v14c0 1.1.9 2 2 2h14c1.1 0 2-.9 2-2V5c0-1.1-.9-2-2-2zM9 17H7v-7h2v7zm4 0h-2V7h2v10zm4 0h-2v-4h2v4z\"/>\n",
              "    </g>\n",
              "</svg>\n",
              "  </button>\n",
              "\n",
              "<style>\n",
              "  .colab-df-quickchart {\n",
              "      --bg-color: #E8F0FE;\n",
              "      --fill-color: #1967D2;\n",
              "      --hover-bg-color: #E2EBFA;\n",
              "      --hover-fill-color: #174EA6;\n",
              "      --disabled-fill-color: #AAA;\n",
              "      --disabled-bg-color: #DDD;\n",
              "  }\n",
              "\n",
              "  [theme=dark] .colab-df-quickchart {\n",
              "      --bg-color: #3B4455;\n",
              "      --fill-color: #D2E3FC;\n",
              "      --hover-bg-color: #434B5C;\n",
              "      --hover-fill-color: #FFFFFF;\n",
              "      --disabled-bg-color: #3B4455;\n",
              "      --disabled-fill-color: #666;\n",
              "  }\n",
              "\n",
              "  .colab-df-quickchart {\n",
              "    background-color: var(--bg-color);\n",
              "    border: none;\n",
              "    border-radius: 50%;\n",
              "    cursor: pointer;\n",
              "    display: none;\n",
              "    fill: var(--fill-color);\n",
              "    height: 32px;\n",
              "    padding: 0;\n",
              "    width: 32px;\n",
              "  }\n",
              "\n",
              "  .colab-df-quickchart:hover {\n",
              "    background-color: var(--hover-bg-color);\n",
              "    box-shadow: 0 1px 2px rgba(60, 64, 67, 0.3), 0 1px 3px 1px rgba(60, 64, 67, 0.15);\n",
              "    fill: var(--button-hover-fill-color);\n",
              "  }\n",
              "\n",
              "  .colab-df-quickchart-complete:disabled,\n",
              "  .colab-df-quickchart-complete:disabled:hover {\n",
              "    background-color: var(--disabled-bg-color);\n",
              "    fill: var(--disabled-fill-color);\n",
              "    box-shadow: none;\n",
              "  }\n",
              "\n",
              "  .colab-df-spinner {\n",
              "    border: 2px solid var(--fill-color);\n",
              "    border-color: transparent;\n",
              "    border-bottom-color: var(--fill-color);\n",
              "    animation:\n",
              "      spin 1s steps(1) infinite;\n",
              "  }\n",
              "\n",
              "  @keyframes spin {\n",
              "    0% {\n",
              "      border-color: transparent;\n",
              "      border-bottom-color: var(--fill-color);\n",
              "      border-left-color: var(--fill-color);\n",
              "    }\n",
              "    20% {\n",
              "      border-color: transparent;\n",
              "      border-left-color: var(--fill-color);\n",
              "      border-top-color: var(--fill-color);\n",
              "    }\n",
              "    30% {\n",
              "      border-color: transparent;\n",
              "      border-left-color: var(--fill-color);\n",
              "      border-top-color: var(--fill-color);\n",
              "      border-right-color: var(--fill-color);\n",
              "    }\n",
              "    40% {\n",
              "      border-color: transparent;\n",
              "      border-right-color: var(--fill-color);\n",
              "      border-top-color: var(--fill-color);\n",
              "    }\n",
              "    60% {\n",
              "      border-color: transparent;\n",
              "      border-right-color: var(--fill-color);\n",
              "    }\n",
              "    80% {\n",
              "      border-color: transparent;\n",
              "      border-right-color: var(--fill-color);\n",
              "      border-bottom-color: var(--fill-color);\n",
              "    }\n",
              "    90% {\n",
              "      border-color: transparent;\n",
              "      border-bottom-color: var(--fill-color);\n",
              "    }\n",
              "  }\n",
              "</style>\n",
              "\n",
              "  <script>\n",
              "    async function quickchart(key) {\n",
              "      const quickchartButtonEl =\n",
              "        document.querySelector('#' + key + ' button');\n",
              "      quickchartButtonEl.disabled = true;  // To prevent multiple clicks.\n",
              "      quickchartButtonEl.classList.add('colab-df-spinner');\n",
              "      try {\n",
              "        const charts = await google.colab.kernel.invokeFunction(\n",
              "            'suggestCharts', [key], {});\n",
              "      } catch (error) {\n",
              "        console.error('Error during call to suggestCharts:', error);\n",
              "      }\n",
              "      quickchartButtonEl.classList.remove('colab-df-spinner');\n",
              "      quickchartButtonEl.classList.add('colab-df-quickchart-complete');\n",
              "    }\n",
              "    (() => {\n",
              "      let quickchartButtonEl =\n",
              "        document.querySelector('#df-89739e0e-a98f-4dac-9a31-741f8b7b6918 button');\n",
              "      quickchartButtonEl.style.display =\n",
              "        google.colab.kernel.accessAllowed ? 'block' : 'none';\n",
              "    })();\n",
              "  </script>\n",
              "</div>\n",
              "    </div>\n",
              "  </div>\n"
            ],
            "text/plain": [
              "                 Accuracy  Precision  Recall     F1\n",
              "RESNET_ORIGINAL     0.847      0.847   0.847  0.846\n",
              "RESNET_TL           0.673      0.677   0.673  0.672"
            ]
          },
          "execution_count": 87,
          "metadata": {},
          "output_type": "execute_result"
        }
      ],
      "source": [
        "pd.DataFrame.from_dict(RESULT_METRICS, orient = 'index', columns = ['Accuracy', 'Precision', 'Recall', 'F1'])"
      ]
    },
    {
      "cell_type": "markdown",
      "metadata": {
        "id": "_QA5w0X56RP_"
      },
      "source": [
        "<b>Комментарий:</b>\n",
        "\n",
        "Модель RESNET_TL, обученная с применением Transfer Learning, показывает заметно худшие результаты по сравнению с исходной моделью RESNET_ORIGINAL по всем метрикам (Accuracy, Precision, Recall, F1-score).\n",
        "\n",
        "Это указывает на то, что использование Transfer Learning в данном случае не было эффективным."
      ]
    },
    {
      "cell_type": "markdown",
      "metadata": {
        "id": "PIV6-DG0Sul4"
      },
      "source": [
        "# Сравнение производительности в разных рантаймах"
      ]
    },
    {
      "cell_type": "code",
      "execution_count": 65,
      "metadata": {
        "id": "VktQEyTJ6_TF"
      },
      "outputs": [],
      "source": [
        "# !pip install onnxruntime\n",
        "# !pip install onnx\n",
        "# !pip install openvino\n",
        "# !pip install --upgrade openvino-dev"
      ]
    },
    {
      "cell_type": "code",
      "execution_count": 69,
      "metadata": {
        "id": "10qddGYdV_3Q"
      },
      "outputs": [],
      "source": [
        "import onnxruntime\n",
        "import onnx\n",
        "import openvino as ov\n",
        "from openvino.tools import mo\n",
        "import tensorflow as tf\n",
        "import torchvision.models as models"
      ]
    },
    {
      "cell_type": "code",
      "execution_count": 71,
      "metadata": {
        "id": "T5lCFTDrbJLD"
      },
      "outputs": [],
      "source": [
        "input = dataset_test[0][0]\n",
        "input = input.float().unsqueeze(0)\n",
        "\n",
        "COMPARE_TIMES = {}\n",
        "epochs_ = 100"
      ]
    },
    {
      "cell_type": "code",
      "execution_count": 72,
      "metadata": {
        "id": "DYgXiT8wS_jr"
      },
      "outputs": [],
      "source": [
        "# Чисто на cpu\n",
        "device = \"cpu\"\n",
        "model_original.to(device)\n",
        "input = input.to(device)\n",
        "\n",
        "time_start = time.perf_counter()\n",
        "for epoch in range(epochs_):\n",
        "  with torch.no_grad():\n",
        "    model_original(input)\n",
        "\n",
        "COMPARE_TIMES[\"PyTorch_CPU\"] = (time.perf_counter() - time_start) / epochs"
      ]
    },
    {
      "cell_type": "code",
      "execution_count": 73,
      "metadata": {
        "id": "kvlUey3sUfu1"
      },
      "outputs": [],
      "source": [
        "# На GPU\n",
        "device = torch.device(\"cuda\")\n",
        "model_original.to(device)\n",
        "input = input.to(device)\n",
        "\n",
        "time_start = time.perf_counter()\n",
        "for epoch in range(epochs_):\n",
        "  with torch.no_grad():\n",
        "    model_original(input)\n",
        "\n",
        "COMPARE_TIMES[\"PyTorch_GPU\"] = (time.perf_counter() - time_start) / epochs"
      ]
    },
    {
      "cell_type": "code",
      "execution_count": 74,
      "metadata": {
        "id": "Y1pRpf87VO0R"
      },
      "outputs": [],
      "source": [
        "# ONNX\n",
        "device = 'cpu'\n",
        "model_original.to(device)\n",
        "input = input.to(device)\n",
        "\n",
        "torch.onnx.export(model_original, input, \"model.onnx\", verbose=True)\n",
        "ort_session = onnxruntime.InferenceSession(\"model.onnx\")\n",
        "time_start = time.perf_counter()\n",
        "for epoch in range(epochs_):\n",
        "  with torch.no_grad():\n",
        "    ort_session.run(None, {\"input.1\": np.array(input)})\n",
        "\n",
        "COMPARE_TIMES[\"ONNX\"] = (time.perf_counter() - time_start) / epochs"
      ]
    },
    {
      "cell_type": "code",
      "execution_count": 75,
      "metadata": {
        "id": "aEdQtK4BdG5R"
      },
      "outputs": [],
      "source": [
        "# OpenVINO\n",
        "core = ov.Core()\n",
        "model_original.to(\"cpu\")\n",
        "model_ov = ov.tools.mo.convert_model(model_original, example_input=input)\n",
        "model_ov = core.compile_model(model=model_ov, device_name=\"CPU\")\n",
        "input_layer = model_ov.input(0)\n",
        "output_layer = model_ov.output(0)\n",
        "\n",
        "time_start = time.perf_counter()\n",
        "for epoch in range(epochs_):\n",
        "    with torch.no_grad():\n",
        "        model_ov(input)[output_layer]\n",
        "COMPARE_TIMES[\"OpenVINO\"] = (time.perf_counter() - time_start) / epochs"
      ]
    },
    {
      "cell_type": "code",
      "execution_count": 76,
      "metadata": {
        "colab": {
          "base_uri": "https://localhost:8080/",
          "height": 173
        },
        "id": "N8Ot5G_5VUzq",
        "outputId": "074f5bf1-2320-4a19-c40b-430e9866a546"
      },
      "outputs": [
        {
          "data": {
            "text/html": [
              "\n",
              "  <div id=\"df-79a606ec-74c0-4fc0-94c3-d559cdabea67\" class=\"colab-df-container\">\n",
              "    <div>\n",
              "<style scoped>\n",
              "    .dataframe tbody tr th:only-of-type {\n",
              "        vertical-align: middle;\n",
              "    }\n",
              "\n",
              "    .dataframe tbody tr th {\n",
              "        vertical-align: top;\n",
              "    }\n",
              "\n",
              "    .dataframe thead th {\n",
              "        text-align: right;\n",
              "    }\n",
              "</style>\n",
              "<table border=\"1\" class=\"dataframe\">\n",
              "  <thead>\n",
              "    <tr style=\"text-align: right;\">\n",
              "      <th></th>\n",
              "      <th>Time</th>\n",
              "    </tr>\n",
              "  </thead>\n",
              "  <tbody>\n",
              "    <tr>\n",
              "      <th>PyTorch_CPU</th>\n",
              "      <td>0.008546</td>\n",
              "    </tr>\n",
              "    <tr>\n",
              "      <th>PyTorch_GPU</th>\n",
              "      <td>0.006372</td>\n",
              "    </tr>\n",
              "    <tr>\n",
              "      <th>ONNX</th>\n",
              "      <td>0.001787</td>\n",
              "    </tr>\n",
              "    <tr>\n",
              "      <th>OpenVINO</th>\n",
              "      <td>0.012295</td>\n",
              "    </tr>\n",
              "  </tbody>\n",
              "</table>\n",
              "</div>\n",
              "    <div class=\"colab-df-buttons\">\n",
              "\n",
              "  <div class=\"colab-df-container\">\n",
              "    <button class=\"colab-df-convert\" onclick=\"convertToInteractive('df-79a606ec-74c0-4fc0-94c3-d559cdabea67')\"\n",
              "            title=\"Convert this dataframe to an interactive table.\"\n",
              "            style=\"display:none;\">\n",
              "\n",
              "  <svg xmlns=\"http://www.w3.org/2000/svg\" height=\"24px\" viewBox=\"0 -960 960 960\">\n",
              "    <path d=\"M120-120v-720h720v720H120Zm60-500h600v-160H180v160Zm220 220h160v-160H400v160Zm0 220h160v-160H400v160ZM180-400h160v-160H180v160Zm440 0h160v-160H620v160ZM180-180h160v-160H180v160Zm440 0h160v-160H620v160Z\"/>\n",
              "  </svg>\n",
              "    </button>\n",
              "\n",
              "  <style>\n",
              "    .colab-df-container {\n",
              "      display:flex;\n",
              "      gap: 12px;\n",
              "    }\n",
              "\n",
              "    .colab-df-convert {\n",
              "      background-color: #E8F0FE;\n",
              "      border: none;\n",
              "      border-radius: 50%;\n",
              "      cursor: pointer;\n",
              "      display: none;\n",
              "      fill: #1967D2;\n",
              "      height: 32px;\n",
              "      padding: 0 0 0 0;\n",
              "      width: 32px;\n",
              "    }\n",
              "\n",
              "    .colab-df-convert:hover {\n",
              "      background-color: #E2EBFA;\n",
              "      box-shadow: 0px 1px 2px rgba(60, 64, 67, 0.3), 0px 1px 3px 1px rgba(60, 64, 67, 0.15);\n",
              "      fill: #174EA6;\n",
              "    }\n",
              "\n",
              "    .colab-df-buttons div {\n",
              "      margin-bottom: 4px;\n",
              "    }\n",
              "\n",
              "    [theme=dark] .colab-df-convert {\n",
              "      background-color: #3B4455;\n",
              "      fill: #D2E3FC;\n",
              "    }\n",
              "\n",
              "    [theme=dark] .colab-df-convert:hover {\n",
              "      background-color: #434B5C;\n",
              "      box-shadow: 0px 1px 3px 1px rgba(0, 0, 0, 0.15);\n",
              "      filter: drop-shadow(0px 1px 2px rgba(0, 0, 0, 0.3));\n",
              "      fill: #FFFFFF;\n",
              "    }\n",
              "  </style>\n",
              "\n",
              "    <script>\n",
              "      const buttonEl =\n",
              "        document.querySelector('#df-79a606ec-74c0-4fc0-94c3-d559cdabea67 button.colab-df-convert');\n",
              "      buttonEl.style.display =\n",
              "        google.colab.kernel.accessAllowed ? 'block' : 'none';\n",
              "\n",
              "      async function convertToInteractive(key) {\n",
              "        const element = document.querySelector('#df-79a606ec-74c0-4fc0-94c3-d559cdabea67');\n",
              "        const dataTable =\n",
              "          await google.colab.kernel.invokeFunction('convertToInteractive',\n",
              "                                                    [key], {});\n",
              "        if (!dataTable) return;\n",
              "\n",
              "        const docLinkHtml = 'Like what you see? Visit the ' +\n",
              "          '<a target=\"_blank\" href=https://colab.research.google.com/notebooks/data_table.ipynb>data table notebook</a>'\n",
              "          + ' to learn more about interactive tables.';\n",
              "        element.innerHTML = '';\n",
              "        dataTable['output_type'] = 'display_data';\n",
              "        await google.colab.output.renderOutput(dataTable, element);\n",
              "        const docLink = document.createElement('div');\n",
              "        docLink.innerHTML = docLinkHtml;\n",
              "        element.appendChild(docLink);\n",
              "      }\n",
              "    </script>\n",
              "  </div>\n",
              "\n",
              "\n",
              "<div id=\"df-15d51571-b860-43bd-ad38-4d0568d7f364\">\n",
              "  <button class=\"colab-df-quickchart\" onclick=\"quickchart('df-15d51571-b860-43bd-ad38-4d0568d7f364')\"\n",
              "            title=\"Suggest charts\"\n",
              "            style=\"display:none;\">\n",
              "\n",
              "<svg xmlns=\"http://www.w3.org/2000/svg\" height=\"24px\"viewBox=\"0 0 24 24\"\n",
              "     width=\"24px\">\n",
              "    <g>\n",
              "        <path d=\"M19 3H5c-1.1 0-2 .9-2 2v14c0 1.1.9 2 2 2h14c1.1 0 2-.9 2-2V5c0-1.1-.9-2-2-2zM9 17H7v-7h2v7zm4 0h-2V7h2v10zm4 0h-2v-4h2v4z\"/>\n",
              "    </g>\n",
              "</svg>\n",
              "  </button>\n",
              "\n",
              "<style>\n",
              "  .colab-df-quickchart {\n",
              "      --bg-color: #E8F0FE;\n",
              "      --fill-color: #1967D2;\n",
              "      --hover-bg-color: #E2EBFA;\n",
              "      --hover-fill-color: #174EA6;\n",
              "      --disabled-fill-color: #AAA;\n",
              "      --disabled-bg-color: #DDD;\n",
              "  }\n",
              "\n",
              "  [theme=dark] .colab-df-quickchart {\n",
              "      --bg-color: #3B4455;\n",
              "      --fill-color: #D2E3FC;\n",
              "      --hover-bg-color: #434B5C;\n",
              "      --hover-fill-color: #FFFFFF;\n",
              "      --disabled-bg-color: #3B4455;\n",
              "      --disabled-fill-color: #666;\n",
              "  }\n",
              "\n",
              "  .colab-df-quickchart {\n",
              "    background-color: var(--bg-color);\n",
              "    border: none;\n",
              "    border-radius: 50%;\n",
              "    cursor: pointer;\n",
              "    display: none;\n",
              "    fill: var(--fill-color);\n",
              "    height: 32px;\n",
              "    padding: 0;\n",
              "    width: 32px;\n",
              "  }\n",
              "\n",
              "  .colab-df-quickchart:hover {\n",
              "    background-color: var(--hover-bg-color);\n",
              "    box-shadow: 0 1px 2px rgba(60, 64, 67, 0.3), 0 1px 3px 1px rgba(60, 64, 67, 0.15);\n",
              "    fill: var(--button-hover-fill-color);\n",
              "  }\n",
              "\n",
              "  .colab-df-quickchart-complete:disabled,\n",
              "  .colab-df-quickchart-complete:disabled:hover {\n",
              "    background-color: var(--disabled-bg-color);\n",
              "    fill: var(--disabled-fill-color);\n",
              "    box-shadow: none;\n",
              "  }\n",
              "\n",
              "  .colab-df-spinner {\n",
              "    border: 2px solid var(--fill-color);\n",
              "    border-color: transparent;\n",
              "    border-bottom-color: var(--fill-color);\n",
              "    animation:\n",
              "      spin 1s steps(1) infinite;\n",
              "  }\n",
              "\n",
              "  @keyframes spin {\n",
              "    0% {\n",
              "      border-color: transparent;\n",
              "      border-bottom-color: var(--fill-color);\n",
              "      border-left-color: var(--fill-color);\n",
              "    }\n",
              "    20% {\n",
              "      border-color: transparent;\n",
              "      border-left-color: var(--fill-color);\n",
              "      border-top-color: var(--fill-color);\n",
              "    }\n",
              "    30% {\n",
              "      border-color: transparent;\n",
              "      border-left-color: var(--fill-color);\n",
              "      border-top-color: var(--fill-color);\n",
              "      border-right-color: var(--fill-color);\n",
              "    }\n",
              "    40% {\n",
              "      border-color: transparent;\n",
              "      border-right-color: var(--fill-color);\n",
              "      border-top-color: var(--fill-color);\n",
              "    }\n",
              "    60% {\n",
              "      border-color: transparent;\n",
              "      border-right-color: var(--fill-color);\n",
              "    }\n",
              "    80% {\n",
              "      border-color: transparent;\n",
              "      border-right-color: var(--fill-color);\n",
              "      border-bottom-color: var(--fill-color);\n",
              "    }\n",
              "    90% {\n",
              "      border-color: transparent;\n",
              "      border-bottom-color: var(--fill-color);\n",
              "    }\n",
              "  }\n",
              "</style>\n",
              "\n",
              "  <script>\n",
              "    async function quickchart(key) {\n",
              "      const quickchartButtonEl =\n",
              "        document.querySelector('#' + key + ' button');\n",
              "      quickchartButtonEl.disabled = true;  // To prevent multiple clicks.\n",
              "      quickchartButtonEl.classList.add('colab-df-spinner');\n",
              "      try {\n",
              "        const charts = await google.colab.kernel.invokeFunction(\n",
              "            'suggestCharts', [key], {});\n",
              "      } catch (error) {\n",
              "        console.error('Error during call to suggestCharts:', error);\n",
              "      }\n",
              "      quickchartButtonEl.classList.remove('colab-df-spinner');\n",
              "      quickchartButtonEl.classList.add('colab-df-quickchart-complete');\n",
              "    }\n",
              "    (() => {\n",
              "      let quickchartButtonEl =\n",
              "        document.querySelector('#df-15d51571-b860-43bd-ad38-4d0568d7f364 button');\n",
              "      quickchartButtonEl.style.display =\n",
              "        google.colab.kernel.accessAllowed ? 'block' : 'none';\n",
              "    })();\n",
              "  </script>\n",
              "</div>\n",
              "    </div>\n",
              "  </div>\n"
            ],
            "text/plain": [
              "                 Time\n",
              "PyTorch_CPU  0.008546\n",
              "PyTorch_GPU  0.006372\n",
              "ONNX         0.001787\n",
              "OpenVINO     0.012295"
            ]
          },
          "execution_count": 76,
          "metadata": {},
          "output_type": "execute_result"
        }
      ],
      "source": [
        "pd.DataFrame.from_dict(COMPARE_TIMES, orient = 'index', columns = ['Time'])"
      ]
    },
    {
      "cell_type": "markdown",
      "metadata": {
        "id": "W-xG6yfj89sE"
      },
      "source": [
        "<b>Комментарий:</b>\n",
        "\n",
        "На основе таблицы можно сделать несколько выводов:\n",
        "\n",
        "* <b>PyTorch_CPU vs. PyTorch_GPU</b>: Разница во времени выполнения между CPU и GPU подчеркивает выигрыш в производительности при использовании GPU для обработки модели.\n",
        "\n",
        "* <b>ONNX:</b> Время выполнения ONNX модели существенно меньше по сравнению с PyTorch. ONNX предоставляет оптимизированные варианты моделей, которые могут работать быстрее и эффективнее благодаря использованию различных инструментов для оптимизации и исполнения моделей.\n",
        "\n",
        "* <b>OpenVINO:</b> Время выполнения OpenVINO несколько больше, чем у других фреймворков, что может быть вызвано различными факторами, включая процесс оптимизации моделей для аппаратных средств с использованием специальных оптимизаций Intel. Это также может зависеть от специфики модели и устройства, на котором запускается OpenVINO."
      ]
    },
    {
      "cell_type": "markdown",
      "metadata": {
        "id": "bsEx6RyoqlDY"
      },
      "source": [
        "# Mанипуляция весами"
      ]
    },
    {
      "cell_type": "markdown",
      "metadata": {
        "id": "r0y-9awiqq-1"
      },
      "source": [
        "## GrayScale"
      ]
    },
    {
      "cell_type": "code",
      "execution_count": 77,
      "metadata": {
        "id": "3LmEEz0q1WGm"
      },
      "outputs": [],
      "source": [
        "class ToGrayscale(object):\n",
        "    def __call__(self, img):\n",
        "        return transforms.functional.rgb_to_grayscale(img)\n",
        "transform_gray = transforms.Compose([\n",
        "    ToGrayscale(),\n",
        "    transforms.ToTensor()\n",
        "])\n",
        "\n",
        "train_loader.dataset.transform = transform_gray\n",
        "test_loader.dataset.transform = transform_gray"
      ]
    },
    {
      "cell_type": "code",
      "execution_count": 92,
      "metadata": {
        "colab": {
          "base_uri": "https://localhost:8080/",
          "height": 144
        },
        "id": "9MgUWprA4d2N",
        "outputId": "48d4116d-961a-4af7-be82-ed196b999c45"
      },
      "outputs": [
        {
          "data": {
            "image/png": "[encoded data removed]",
            "text/plain": [
              "<Figure size 640x480 with 5 Axes>"
            ]
          },
          "metadata": {},
          "output_type": "display_data"
        }
      ],
      "source": [
        "num_images_to_show = 5\n",
        "for batch_idx, (images, labels) in enumerate(train_loader):\n",
        "    images = images.float()  # Изменяем тип данных на float\n",
        "    for idx in range(num_images_to_show):\n",
        "        plt.subplot(1, num_images_to_show, idx + 1)\n",
        "        plt.imshow(images[idx][0], cmap='gray')\n",
        "        plt.title(f\"Label: {labels[idx]}\")\n",
        "        plt.axis('off')\n",
        "    plt.show()\n",
        "    break  # Показываем только первый батч изображений"
      ]
    },
    {
      "cell_type": "code",
      "execution_count": 82,
      "metadata": {
        "colab": {
          "base_uri": "https://localhost:8080/"
        },
        "id": "fqpMIIjn3rm9",
        "outputId": "4cb7e6a5-5b8c-45be-b1a1-305231f5545b"
      },
      "outputs": [
        {
          "name": "stderr",
          "output_type": "stream",
          "text": [
            "/usr/local/lib/python3.10/dist-packages/torchvision/models/_utils.py:208: UserWarning: The parameter 'pretrained' is deprecated since 0.13 and may be removed in the future, please use 'weights' instead.\n",
            "  warnings.warn(\n",
            "/usr/local/lib/python3.10/dist-packages/torchvision/models/_utils.py:223: UserWarning: Arguments other than a weight enum or `None` for 'weights' are deprecated since 0.13 and may be removed in the future. The current behavior is equivalent to passing `weights=ResNet18_Weights.IMAGENET1K_V1`. You can also use `weights=ResNet18_Weights.DEFAULT` to get the most up-to-date weights.\n",
            "  warnings.warn(msg)\n"
          ]
        },
        {
          "name": "stdout",
          "output_type": "stream",
          "text": [
            "Epoch [1/15] - Loss: 115.93636226654053\n",
            "Epoch [2/15] - Loss: 15.889746993780136\n",
            "Epoch [3/15] - Loss: 10.92545922100544\n",
            "Epoch [4/15] - Loss: 7.319937884807587\n",
            "Epoch [5/15] - Loss: 4.809242591261864\n",
            "Epoch [6/15] - Loss: 3.8810335025191307\n",
            "Epoch [7/15] - Loss: 2.4513697288930416\n",
            "Epoch [8/15] - Loss: 1.4091628082096577\n",
            "Epoch [9/15] - Loss: 1.4724569879472256\n",
            "Epoch [10/15] - Loss: 0.9674720079638064\n",
            "Epoch [11/15] - Loss: 0.7283798607531935\n",
            "Epoch [12/15] - Loss: 0.48978758323937654\n",
            "Epoch [13/15] - Loss: 0.49418297153897583\n",
            "Epoch [14/15] - Loss: 0.4984621265903115\n",
            "Epoch [15/15] - Loss: 0.6056517597753555\n"
          ]
        }
      ],
      "source": [
        "# Перенос модели на GPU, если доступен\n",
        "model_gs = torchvision.models.resnet18(pretrained=True)\n",
        "\n",
        "device = torch.device(\"cuda:0\" if torch.cuda.is_available() else \"cpu\")\n",
        "model_rg = model_gs.to(device)\n",
        "\n",
        "# Определяем критерий (функция потерь) и оптимизатор\n",
        "criterion = nn.CrossEntropyLoss()\n",
        "optimizer = optim.SGD(model_gs.parameters(), lr=0.001, momentum=0.9)\n",
        "\n",
        "# Обучение модели\n",
        "_ = train(model_gs, train_loader, device, epochs)"
      ]
    },
    {
      "cell_type": "code",
      "execution_count": 90,
      "metadata": {
        "id": "Nlfh_urp6tl1"
      },
      "outputs": [],
      "source": [
        "all_preds_gs, all_labels_gs = predict(model_gs, test_loader, device)"
      ]
    },
    {
      "cell_type": "code",
      "execution_count": 91,
      "metadata": {
        "colab": {
          "base_uri": "https://localhost:8080/",
          "height": 142
        },
        "id": "0jlq0qqw6BYg",
        "outputId": "86242405-4b68-4f90-a83a-c5971c007599"
      },
      "outputs": [
        {
          "data": {
            "text/html": [
              "\n",
              "  <div id=\"df-47732784-df5e-4d5e-b5e6-863e8ec0535b\" class=\"colab-df-container\">\n",
              "    <div>\n",
              "<style scoped>\n",
              "    .dataframe tbody tr th:only-of-type {\n",
              "        vertical-align: middle;\n",
              "    }\n",
              "\n",
              "    .dataframe tbody tr th {\n",
              "        vertical-align: top;\n",
              "    }\n",
              "\n",
              "    .dataframe thead th {\n",
              "        text-align: right;\n",
              "    }\n",
              "</style>\n",
              "<table border=\"1\" class=\"dataframe\">\n",
              "  <thead>\n",
              "    <tr style=\"text-align: right;\">\n",
              "      <th></th>\n",
              "      <th>Accuracy</th>\n",
              "      <th>Precision</th>\n",
              "      <th>Recall</th>\n",
              "      <th>F1</th>\n",
              "    </tr>\n",
              "  </thead>\n",
              "  <tbody>\n",
              "    <tr>\n",
              "      <th>RESNET_ORIGINAL</th>\n",
              "      <td>0.847</td>\n",
              "      <td>0.847</td>\n",
              "      <td>0.847</td>\n",
              "      <td>0.846</td>\n",
              "    </tr>\n",
              "    <tr>\n",
              "      <th>RESNET_TL</th>\n",
              "      <td>0.673</td>\n",
              "      <td>0.677</td>\n",
              "      <td>0.673</td>\n",
              "      <td>0.672</td>\n",
              "    </tr>\n",
              "    <tr>\n",
              "      <th>RESNET_GS</th>\n",
              "      <td>0.820</td>\n",
              "      <td>0.823</td>\n",
              "      <td>0.820</td>\n",
              "      <td>0.821</td>\n",
              "    </tr>\n",
              "  </tbody>\n",
              "</table>\n",
              "</div>\n",
              "    <div class=\"colab-df-buttons\">\n",
              "\n",
              "  <div class=\"colab-df-container\">\n",
              "    <button class=\"colab-df-convert\" onclick=\"convertToInteractive('df-47732784-df5e-4d5e-b5e6-863e8ec0535b')\"\n",
              "            title=\"Convert this dataframe to an interactive table.\"\n",
              "            style=\"display:none;\">\n",
              "\n",
              "  <svg xmlns=\"http://www.w3.org/2000/svg\" height=\"24px\" viewBox=\"0 -960 960 960\">\n",
              "    <path d=\"M120-120v-720h720v720H120Zm60-500h600v-160H180v160Zm220 220h160v-160H400v160Zm0 220h160v-160H400v160ZM180-400h160v-160H180v160Zm440 0h160v-160H620v160ZM180-180h160v-160H180v160Zm440 0h160v-160H620v160Z\"/>\n",
              "  </svg>\n",
              "    </button>\n",
              "\n",
              "  <style>\n",
              "    .colab-df-container {\n",
              "      display:flex;\n",
              "      gap: 12px;\n",
              "    }\n",
              "\n",
              "    .colab-df-convert {\n",
              "      background-color: #E8F0FE;\n",
              "      border: none;\n",
              "      border-radius: 50%;\n",
              "      cursor: pointer;\n",
              "      display: none;\n",
              "      fill: #1967D2;\n",
              "      height: 32px;\n",
              "      padding: 0 0 0 0;\n",
              "      width: 32px;\n",
              "    }\n",
              "\n",
              "    .colab-df-convert:hover {\n",
              "      background-color: #E2EBFA;\n",
              "      box-shadow: 0px 1px 2px rgba(60, 64, 67, 0.3), 0px 1px 3px 1px rgba(60, 64, 67, 0.15);\n",
              "      fill: #174EA6;\n",
              "    }\n",
              "\n",
              "    .colab-df-buttons div {\n",
              "      margin-bottom: 4px;\n",
              "    }\n",
              "\n",
              "    [theme=dark] .colab-df-convert {\n",
              "      background-color: #3B4455;\n",
              "      fill: #D2E3FC;\n",
              "    }\n",
              "\n",
              "    [theme=dark] .colab-df-convert:hover {\n",
              "      background-color: #434B5C;\n",
              "      box-shadow: 0px 1px 3px 1px rgba(0, 0, 0, 0.15);\n",
              "      filter: drop-shadow(0px 1px 2px rgba(0, 0, 0, 0.3));\n",
              "      fill: #FFFFFF;\n",
              "    }\n",
              "  </style>\n",
              "\n",
              "    <script>\n",
              "      const buttonEl =\n",
              "        document.querySelector('#df-47732784-df5e-4d5e-b5e6-863e8ec0535b button.colab-df-convert');\n",
              "      buttonEl.style.display =\n",
              "        google.colab.kernel.accessAllowed ? 'block' : 'none';\n",
              "\n",
              "      async function convertToInteractive(key) {\n",
              "        const element = document.querySelector('#df-47732784-df5e-4d5e-b5e6-863e8ec0535b');\n",
              "        const dataTable =\n",
              "          await google.colab.kernel.invokeFunction('convertToInteractive',\n",
              "                                                    [key], {});\n",
              "        if (!dataTable) return;\n",
              "\n",
              "        const docLinkHtml = 'Like what you see? Visit the ' +\n",
              "          '<a target=\"_blank\" href=https://colab.research.google.com/notebooks/data_table.ipynb>data table notebook</a>'\n",
              "          + ' to learn more about interactive tables.';\n",
              "        element.innerHTML = '';\n",
              "        dataTable['output_type'] = 'display_data';\n",
              "        await google.colab.output.renderOutput(dataTable, element);\n",
              "        const docLink = document.createElement('div');\n",
              "        docLink.innerHTML = docLinkHtml;\n",
              "        element.appendChild(docLink);\n",
              "      }\n",
              "    </script>\n",
              "  </div>\n",
              "\n",
              "\n",
              "<div id=\"df-26e6f770-c505-459d-8d71-d359a3ea7dc2\">\n",
              "  <button class=\"colab-df-quickchart\" onclick=\"quickchart('df-26e6f770-c505-459d-8d71-d359a3ea7dc2')\"\n",
              "            title=\"Suggest charts\"\n",
              "            style=\"display:none;\">\n",
              "\n",
              "<svg xmlns=\"http://www.w3.org/2000/svg\" height=\"24px\"viewBox=\"0 0 24 24\"\n",
              "     width=\"24px\">\n",
              "    <g>\n",
              "        <path d=\"M19 3H5c-1.1 0-2 .9-2 2v14c0 1.1.9 2 2 2h14c1.1 0 2-.9 2-2V5c0-1.1-.9-2-2-2zM9 17H7v-7h2v7zm4 0h-2V7h2v10zm4 0h-2v-4h2v4z\"/>\n",
              "    </g>\n",
              "</svg>\n",
              "  </button>\n",
              "\n",
              "<style>\n",
              "  .colab-df-quickchart {\n",
              "      --bg-color: #E8F0FE;\n",
              "      --fill-color: #1967D2;\n",
              "      --hover-bg-color: #E2EBFA;\n",
              "      --hover-fill-color: #174EA6;\n",
              "      --disabled-fill-color: #AAA;\n",
              "      --disabled-bg-color: #DDD;\n",
              "  }\n",
              "\n",
              "  [theme=dark] .colab-df-quickchart {\n",
              "      --bg-color: #3B4455;\n",
              "      --fill-color: #D2E3FC;\n",
              "      --hover-bg-color: #434B5C;\n",
              "      --hover-fill-color: #FFFFFF;\n",
              "      --disabled-bg-color: #3B4455;\n",
              "      --disabled-fill-color: #666;\n",
              "  }\n",
              "\n",
              "  .colab-df-quickchart {\n",
              "    background-color: var(--bg-color);\n",
              "    border: none;\n",
              "    border-radius: 50%;\n",
              "    cursor: pointer;\n",
              "    display: none;\n",
              "    fill: var(--fill-color);\n",
              "    height: 32px;\n",
              "    padding: 0;\n",
              "    width: 32px;\n",
              "  }\n",
              "\n",
              "  .colab-df-quickchart:hover {\n",
              "    background-color: var(--hover-bg-color);\n",
              "    box-shadow: 0 1px 2px rgba(60, 64, 67, 0.3), 0 1px 3px 1px rgba(60, 64, 67, 0.15);\n",
              "    fill: var(--button-hover-fill-color);\n",
              "  }\n",
              "\n",
              "  .colab-df-quickchart-complete:disabled,\n",
              "  .colab-df-quickchart-complete:disabled:hover {\n",
              "    background-color: var(--disabled-bg-color);\n",
              "    fill: var(--disabled-fill-color);\n",
              "    box-shadow: none;\n",
              "  }\n",
              "\n",
              "  .colab-df-spinner {\n",
              "    border: 2px solid var(--fill-color);\n",
              "    border-color: transparent;\n",
              "    border-bottom-color: var(--fill-color);\n",
              "    animation:\n",
              "      spin 1s steps(1) infinite;\n",
              "  }\n",
              "\n",
              "  @keyframes spin {\n",
              "    0% {\n",
              "      border-color: transparent;\n",
              "      border-bottom-color: var(--fill-color);\n",
              "      border-left-color: var(--fill-color);\n",
              "    }\n",
              "    20% {\n",
              "      border-color: transparent;\n",
              "      border-left-color: var(--fill-color);\n",
              "      border-top-color: var(--fill-color);\n",
              "    }\n",
              "    30% {\n",
              "      border-color: transparent;\n",
              "      border-left-color: var(--fill-color);\n",
              "      border-top-color: var(--fill-color);\n",
              "      border-right-color: var(--fill-color);\n",
              "    }\n",
              "    40% {\n",
              "      border-color: transparent;\n",
              "      border-right-color: var(--fill-color);\n",
              "      border-top-color: var(--fill-color);\n",
              "    }\n",
              "    60% {\n",
              "      border-color: transparent;\n",
              "      border-right-color: var(--fill-color);\n",
              "    }\n",
              "    80% {\n",
              "      border-color: transparent;\n",
              "      border-right-color: var(--fill-color);\n",
              "      border-bottom-color: var(--fill-color);\n",
              "    }\n",
              "    90% {\n",
              "      border-color: transparent;\n",
              "      border-bottom-color: var(--fill-color);\n",
              "    }\n",
              "  }\n",
              "</style>\n",
              "\n",
              "  <script>\n",
              "    async function quickchart(key) {\n",
              "      const quickchartButtonEl =\n",
              "        document.querySelector('#' + key + ' button');\n",
              "      quickchartButtonEl.disabled = true;  // To prevent multiple clicks.\n",
              "      quickchartButtonEl.classList.add('colab-df-spinner');\n",
              "      try {\n",
              "        const charts = await google.colab.kernel.invokeFunction(\n",
              "            'suggestCharts', [key], {});\n",
              "      } catch (error) {\n",
              "        console.error('Error during call to suggestCharts:', error);\n",
              "      }\n",
              "      quickchartButtonEl.classList.remove('colab-df-spinner');\n",
              "      quickchartButtonEl.classList.add('colab-df-quickchart-complete');\n",
              "    }\n",
              "    (() => {\n",
              "      let quickchartButtonEl =\n",
              "        document.querySelector('#df-26e6f770-c505-459d-8d71-d359a3ea7dc2 button');\n",
              "      quickchartButtonEl.style.display =\n",
              "        google.colab.kernel.accessAllowed ? 'block' : 'none';\n",
              "    })();\n",
              "  </script>\n",
              "</div>\n",
              "    </div>\n",
              "  </div>\n"
            ],
            "text/plain": [
              "                 Accuracy  Precision  Recall     F1\n",
              "RESNET_ORIGINAL     0.847      0.847   0.847  0.846\n",
              "RESNET_TL           0.673      0.677   0.673  0.672\n",
              "RESNET_GS           0.820      0.823   0.820  0.821"
            ]
          },
          "execution_count": 91,
          "metadata": {},
          "output_type": "execute_result"
        }
      ],
      "source": [
        "accuracy_gs, precision_gs, recall_gs, f1score_gs  = get_metrics(all_labels_gs, all_preds_gs, number_classes)\n",
        "\n",
        "RESULT_METRICS['RESNET_GS'] = [accuracy_gs, precision_gs, recall_gs, f1score_gs ]\n",
        "\n",
        "pd.DataFrame.from_dict(RESULT_METRICS, orient = 'index', columns = ['Accuracy', 'Precision', 'Recall', 'F1'])"
      ]
    },
    {
      "cell_type": "markdown",
      "metadata": {
        "id": "hR41RBHs_HBV"
      },
      "source": [
        "<b>Комментарий:</b>\n",
        "\n",
        "Заметим, что модель RESNET_GS, работающая с изображениями в оттенках серого (grayscale), имеет немного сниженные показатели точности (accuracy, precision, recall и F1) по сравнению с оригинальной RESNET моделью.\n",
        "\n",
        "Использование изображений в оттенках серого может снизить информативность модели, поскольку цвет является важным аспектом для распознавания объектов на изображениях. В результате снижения цветовой информации некоторые ключевые аспекты объектов могут теряться, что приводит к снижению общих метрик оценки модели, таких как accuracy, precision, recall и F1."
      ]
    },
    {
      "cell_type": "markdown",
      "metadata": {},
      "source": []
    }
  ],
  "metadata": {
    "accelerator": "GPU",
    "colab": {
      "gpuType": "T4",
      "provenance": []
    },
    "kernelspec": {
      "display_name": "Python 3",
      "name": "python3"
    },
    "language_info": {
      "name": "python"
    }
  },
  "nbformat": 4,
  "nbformat_minor": 0
}
